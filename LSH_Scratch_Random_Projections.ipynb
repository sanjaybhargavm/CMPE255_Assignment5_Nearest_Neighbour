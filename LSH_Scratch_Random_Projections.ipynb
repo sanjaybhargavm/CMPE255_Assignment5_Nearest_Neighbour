{
  "nbformat": 4,
  "nbformat_minor": 0,
  "metadata": {
    "colab": {
      "provenance": [],
      "collapsed_sections": [
        "BnBPFObTer6F"
      ]
    },
    "kernelspec": {
      "name": "python3",
      "display_name": "Python 3"
    },
    "language_info": {
      "name": "python"
    }
  },
  "cells": [
    {
      "cell_type": "markdown",
      "source": [
        "# **Local Sesitive Hashing**"
      ],
      "metadata": {
        "id": "BnBPFObTer6F"
      }
    },
    {
      "cell_type": "markdown",
      "source": [
        "**Installing and importing Necessary libraies**"
      ],
      "metadata": {
        "id": "QntwxudzeTPF"
      }
    },
    {
      "cell_type": "code",
      "execution_count": 2,
      "metadata": {
        "id": "203lNehuxXpA",
        "colab": {
          "base_uri": "https://localhost:8080/"
        },
        "outputId": "4da3bcd4-db92-452d-ad6e-9a294d6a7d69"
      },
      "outputs": [
        {
          "output_type": "stream",
          "name": "stdout",
          "text": [
            "Looking in indexes: https://pypi.org/simple, https://us-python.pkg.dev/colab-wheels/public/simple/\n",
            "Collecting datasketch\n",
            "  Downloading datasketch-1.5.8-py2.py3-none-any.whl (76 kB)\n",
            "\u001b[K     |████████████████████████████████| 76 kB 997 kB/s \n",
            "\u001b[?25hRequirement already satisfied: numpy>=1.11 in /usr/local/lib/python3.8/dist-packages (from datasketch) (1.21.6)\n",
            "Requirement already satisfied: scipy>=1.0.0 in /usr/local/lib/python3.8/dist-packages (from datasketch) (1.7.3)\n",
            "Installing collected packages: datasketch\n",
            "Successfully installed datasketch-1.5.8\n"
          ]
        }
      ],
      "source": [
        "!pip install datasketch"
      ]
    },
    {
      "cell_type": "code",
      "source": [
        "\n",
        "import pandas as pd\n",
        "import numpy as np\n",
        "\n",
        "import random\n",
        "from random import shuffle\n",
        "import re\n",
        "from datasketch import MinHash, MinHashLSHForest\n",
        "from sklearn.metrics.pairwise import cosine_similarity\n",
        "\n",
        "from google.colab import drive"
      ],
      "metadata": {
        "id": "pkvbjQjOZFTm"
      },
      "execution_count": 3,
      "outputs": []
    },
    {
      "cell_type": "markdown",
      "source": [
        "Creating a function"
      ],
      "metadata": {
        "id": "YCiCQsVsej-X"
      }
    },
    {
      "cell_type": "code",
      "source": [
        "def gen_shingles(text: str, k: int):\n",
        "  shingles = []\n",
        "\n",
        "  for i in range(len(text) - k + 1):\n",
        "    shingle = text[i:i + k]\n",
        "    shingles.append(shingle)\n",
        "\n",
        "  return set(shingles)"
      ],
      "metadata": {
        "id": "z0HV70SKZFfU"
      },
      "execution_count": 4,
      "outputs": []
    },
    {
      "cell_type": "code",
      "source": [
        "df1 = 'sanjay'\n",
        "df2 = 'data mining'\n",
        "df3 = 'cmoe255 data mining assignmnet'\n",
        "k = 3\n",
        "\n",
        "t1 = gen_shingles(df1, k)\n",
        "t2 = gen_shingles(df2, k)\n",
        "t3 = gen_shingles(df3, k)\n",
        "\n",
        "t1, t2, t3"
      ],
      "metadata": {
        "colab": {
          "base_uri": "https://localhost:8080/"
        },
        "id": "kMHStw73ZFmo",
        "outputId": "2f06b35d-d00d-4c9e-f363-773756e86a0a"
      },
      "execution_count": 5,
      "outputs": [
        {
          "output_type": "execute_result",
          "data": {
            "text/plain": [
              "({'anj', 'jay', 'nja', 'san'},\n",
              " {' mi', 'a m', 'ata', 'dat', 'ing', 'ini', 'min', 'nin', 'ta '},\n",
              " {' as',\n",
              "  ' da',\n",
              "  ' mi',\n",
              "  '255',\n",
              "  '5 d',\n",
              "  '55 ',\n",
              "  'a m',\n",
              "  'ass',\n",
              "  'ata',\n",
              "  'cmo',\n",
              "  'dat',\n",
              "  'e25',\n",
              "  'g a',\n",
              "  'gnm',\n",
              "  'ign',\n",
              "  'ing',\n",
              "  'ini',\n",
              "  'min',\n",
              "  'mne',\n",
              "  'moe',\n",
              "  'net',\n",
              "  'ng ',\n",
              "  'nin',\n",
              "  'nmn',\n",
              "  'oe2',\n",
              "  'sig',\n",
              "  'ssi',\n",
              "  'ta '})"
            ]
          },
          "metadata": {},
          "execution_count": 5
        }
      ]
    },
    {
      "cell_type": "markdown",
      "source": [
        "Creating a vocabulary"
      ],
      "metadata": {
        "id": "hZAy1FuYfDtF"
      }
    },
    {
      "cell_type": "code",
      "source": [
        "vocab = t1.union(t2).union(t3)\n",
        "vocab"
      ],
      "metadata": {
        "colab": {
          "base_uri": "https://localhost:8080/"
        },
        "id": "tOgF15PjZFoC",
        "outputId": "e4fa9f41-d0b0-4af7-9ef3-9dbb78387839"
      },
      "execution_count": 6,
      "outputs": [
        {
          "output_type": "execute_result",
          "data": {
            "text/plain": [
              "{' as',\n",
              " ' da',\n",
              " ' mi',\n",
              " '255',\n",
              " '5 d',\n",
              " '55 ',\n",
              " 'a m',\n",
              " 'anj',\n",
              " 'ass',\n",
              " 'ata',\n",
              " 'cmo',\n",
              " 'dat',\n",
              " 'e25',\n",
              " 'g a',\n",
              " 'gnm',\n",
              " 'ign',\n",
              " 'ing',\n",
              " 'ini',\n",
              " 'jay',\n",
              " 'min',\n",
              " 'mne',\n",
              " 'moe',\n",
              " 'net',\n",
              " 'ng ',\n",
              " 'nin',\n",
              " 'nja',\n",
              " 'nmn',\n",
              " 'oe2',\n",
              " 'san',\n",
              " 'sig',\n",
              " 'ssi',\n",
              " 'ta '}"
            ]
          },
          "metadata": {},
          "execution_count": 6
        }
      ]
    },
    {
      "cell_type": "markdown",
      "source": [
        "encoding"
      ],
      "metadata": {
        "id": "vXnyxU4_fNCC"
      }
    },
    {
      "cell_type": "code",
      "source": [
        "t1_enc = [1 if s in t1 else 0 for s in vocab]\n",
        "t2_enc = [1 if s in t2 else 0 for s in vocab]\n",
        "t3_enc = [1 if s in t3 else 0 for s in vocab]\n",
        "\n",
        "t1_enc"
      ],
      "metadata": {
        "colab": {
          "base_uri": "https://localhost:8080/"
        },
        "id": "2lb6U_pfZ995",
        "outputId": "a486405a-f5ee-4543-cef7-4c3f6bef301b"
      },
      "execution_count": 7,
      "outputs": [
        {
          "output_type": "execute_result",
          "data": {
            "text/plain": [
              "[0,\n",
              " 0,\n",
              " 0,\n",
              " 0,\n",
              " 1,\n",
              " 0,\n",
              " 0,\n",
              " 0,\n",
              " 0,\n",
              " 1,\n",
              " 0,\n",
              " 1,\n",
              " 0,\n",
              " 0,\n",
              " 0,\n",
              " 0,\n",
              " 0,\n",
              " 1,\n",
              " 0,\n",
              " 0,\n",
              " 0,\n",
              " 0,\n",
              " 0,\n",
              " 0,\n",
              " 0,\n",
              " 0,\n",
              " 0,\n",
              " 0,\n",
              " 0,\n",
              " 0,\n",
              " 0,\n",
              " 0]"
            ]
          },
          "metadata": {},
          "execution_count": 7
        }
      ]
    },
    {
      "cell_type": "markdown",
      "source": [
        "min hashing"
      ],
      "metadata": {
        "id": "VlrAoqSSfTNa"
      }
    },
    {
      "cell_type": "code",
      "source": [
        "nums = list(range(1, len(t1_enc) + 1))\n",
        "print(nums)"
      ],
      "metadata": {
        "colab": {
          "base_uri": "https://localhost:8080/"
        },
        "id": "OQO3Dy57ZxIt",
        "outputId": "59244851-9ff3-44e5-fc6f-ba824c9be344"
      },
      "execution_count": 8,
      "outputs": [
        {
          "output_type": "stream",
          "name": "stdout",
          "text": [
            "[1, 2, 3, 4, 5, 6, 7, 8, 9, 10, 11, 12, 13, 14, 15, 16, 17, 18, 19, 20, 21, 22, 23, 24, 25, 26, 27, 28, 29, 30, 31, 32]\n"
          ]
        }
      ]
    },
    {
      "cell_type": "code",
      "source": [
        "shuffle(nums)\n",
        "random_nums = nums\n",
        "random_nums"
      ],
      "metadata": {
        "colab": {
          "base_uri": "https://localhost:8080/"
        },
        "id": "XR8mRtJlZxL9",
        "outputId": "df347532-003d-431a-c764-3367562c5270"
      },
      "execution_count": 9,
      "outputs": [
        {
          "output_type": "execute_result",
          "data": {
            "text/plain": [
              "[16,\n",
              " 10,\n",
              " 17,\n",
              " 30,\n",
              " 28,\n",
              " 20,\n",
              " 18,\n",
              " 9,\n",
              " 11,\n",
              " 14,\n",
              " 5,\n",
              " 32,\n",
              " 1,\n",
              " 27,\n",
              " 4,\n",
              " 7,\n",
              " 12,\n",
              " 23,\n",
              " 3,\n",
              " 22,\n",
              " 13,\n",
              " 15,\n",
              " 19,\n",
              " 2,\n",
              " 6,\n",
              " 21,\n",
              " 25,\n",
              " 29,\n",
              " 26,\n",
              " 24,\n",
              " 8,\n",
              " 31]"
            ]
          },
          "metadata": {},
          "execution_count": 9
        }
      ]
    },
    {
      "cell_type": "code",
      "source": [
        "def create_hash(size):\n",
        "  hash = list(range(1, len(vocab) + 1))\n",
        "  shuffle(hash)\n",
        "  return hash\n",
        "     "
      ],
      "metadata": {
        "id": "vjc3cwyHZxOO"
      },
      "execution_count": 10,
      "outputs": []
    },
    {
      "cell_type": "code",
      "source": [
        "def build_minhash_func(vocab_size: int, nbits: int):\n",
        "    hashes = []\n",
        "    for i in range(nbits):\n",
        "        hashes.append(create_hash(vocab_size))\n",
        "    return hashes\n",
        "\n",
        "# creating 20 minhash vectors\n",
        "minhash = build_minhash_func(len(vocab), 20)\n"
      ],
      "metadata": {
        "id": "NE4nXuY_ZxQY"
      },
      "execution_count": 11,
      "outputs": []
    },
    {
      "cell_type": "code",
      "source": [
        "def create_sig(onehot_enc: list):\n",
        "    # To create signatures\n",
        "    signature = []\n",
        "    for func in minhash:\n",
        "        for i in range(1, len(vocab)+1):\n",
        "            idx = func.index(i)\n",
        "            if onehot_enc[idx] == 1:\n",
        "                signature.append(idx)\n",
        "                break\n",
        "    return signature\n"
      ],
      "metadata": {
        "id": "kkOYtPyaZxSm"
      },
      "execution_count": 12,
      "outputs": []
    },
    {
      "cell_type": "code",
      "source": [
        "t1_sig = create_sig(t1_enc)\n",
        "t2_sig = create_sig(t2_enc)\n",
        "t3_sig = create_sig(t3_enc)\n",
        "\n",
        "print(t1_sig)\n",
        "print(t2_sig)\n",
        "     "
      ],
      "metadata": {
        "colab": {
          "base_uri": "https://localhost:8080/"
        },
        "id": "pnm3sxwZaXkQ",
        "outputId": "8e274159-00bf-4cd6-e285-83119d9a8439"
      },
      "execution_count": 13,
      "outputs": [
        {
          "output_type": "stream",
          "name": "stdout",
          "text": [
            "[9, 4, 11, 11, 9, 9, 11, 4, 9, 11, 9, 11, 9, 11, 9, 9, 17, 17, 4, 9]\n",
            "[0, 10, 18, 15, 18, 25, 0, 18, 25, 24, 18, 15, 24, 12, 10, 15, 31, 10, 0, 15]\n"
          ]
        }
      ]
    },
    {
      "cell_type": "markdown",
      "source": [
        "finding jaccard distance"
      ],
      "metadata": {
        "id": "7ZmkRi2YfYni"
      }
    },
    {
      "cell_type": "code",
      "source": [
        "def jaccard(a, b):\n",
        "  return len(a.intersection(b)) / len(a.union(b))"
      ],
      "metadata": {
        "id": "OWiV0oJyaXmq"
      },
      "execution_count": 14,
      "outputs": []
    },
    {
      "cell_type": "code",
      "source": [
        "jaccard(t1, t2), jaccard(set(t1_sig), set(t2_sig))"
      ],
      "metadata": {
        "colab": {
          "base_uri": "https://localhost:8080/"
        },
        "id": "QWoI-tZbaXoq",
        "outputId": "3989db18-df9b-49fc-bc2d-8c81062e0147"
      },
      "execution_count": 15,
      "outputs": [
        {
          "output_type": "execute_result",
          "data": {
            "text/plain": [
              "(0.0, 0.0)"
            ]
          },
          "metadata": {},
          "execution_count": 15
        }
      ]
    },
    {
      "cell_type": "code",
      "source": [
        "jaccard(t1, t3), jaccard(set(t1_sig), set(t3_sig))"
      ],
      "metadata": {
        "colab": {
          "base_uri": "https://localhost:8080/"
        },
        "id": "9aT7R1KXamNF",
        "outputId": "f21c72c4-c811-4308-cd80-e8fcad028914"
      },
      "execution_count": 16,
      "outputs": [
        {
          "output_type": "execute_result",
          "data": {
            "text/plain": [
              "(0.0, 0.0)"
            ]
          },
          "metadata": {},
          "execution_count": 16
        }
      ]
    },
    {
      "cell_type": "code",
      "source": [
        "jaccard(t2, t3), jaccard(set(t2_sig), set(t3_sig))"
      ],
      "metadata": {
        "colab": {
          "base_uri": "https://localhost:8080/"
        },
        "id": "uPMUkBTBamTa",
        "outputId": "0d9ca540-e75a-410e-e484-722564635b8b"
      },
      "execution_count": 17,
      "outputs": [
        {
          "output_type": "execute_result",
          "data": {
            "text/plain": [
              "(0.32142857142857145, 0.09523809523809523)"
            ]
          },
          "metadata": {},
          "execution_count": 17
        }
      ]
    },
    {
      "cell_type": "code",
      "source": [
        "\n",
        "def fill_buckets(signatures, bands):\n",
        "  n = len(signatures) // bands   \n",
        "  bucket = [] \n",
        "  i = 0\n",
        "  while i < len(signatures):\n",
        "    bucket.append(signatures[i: i + n]) \n",
        "    i += n\n",
        "  return bucket"
      ],
      "metadata": {
        "id": "8NM_GBefamV9"
      },
      "execution_count": 18,
      "outputs": []
    },
    {
      "cell_type": "code",
      "source": [
        "band_text1 = fill_buckets(t1_sig, 10)\n",
        "band_text2 = fill_buckets(t2_sig, 10)\n",
        "band_text3 = fill_buckets(t3_sig, 10)\n",
        "\n",
        "band_text1, band_text2, band_text3"
      ],
      "metadata": {
        "colab": {
          "base_uri": "https://localhost:8080/"
        },
        "id": "Vl8Cue97amYj",
        "outputId": "0a52237c-68e7-4453-e08e-8dd74cc73b88"
      },
      "execution_count": 19,
      "outputs": [
        {
          "output_type": "execute_result",
          "data": {
            "text/plain": [
              "([[9, 4],\n",
              "  [11, 11],\n",
              "  [9, 9],\n",
              "  [11, 4],\n",
              "  [9, 11],\n",
              "  [9, 11],\n",
              "  [9, 11],\n",
              "  [9, 9],\n",
              "  [17, 17],\n",
              "  [4, 9]],\n",
              " [[0, 10],\n",
              "  [18, 15],\n",
              "  [18, 25],\n",
              "  [0, 18],\n",
              "  [25, 24],\n",
              "  [18, 15],\n",
              "  [24, 12],\n",
              "  [10, 15],\n",
              "  [31, 10],\n",
              "  [0, 15]],\n",
              " [[28, 2],\n",
              "  [21, 8],\n",
              "  [29, 25],\n",
              "  [14, 26],\n",
              "  [20, 30],\n",
              "  [29, 16],\n",
              "  [29, 16],\n",
              "  [28, 3],\n",
              "  [22, 13],\n",
              "  [26, 15]])"
            ]
          },
          "metadata": {},
          "execution_count": 19
        }
      ]
    },
    {
      "cell_type": "markdown",
      "source": [
        "Returning candidate pairs"
      ],
      "metadata": {
        "id": "NdoWi2TzfgVu"
      }
    },
    {
      "cell_type": "code",
      "source": [
        "for t1, t2 in zip(band_text1, band_text2):\n",
        "  if t1 == t2:\n",
        "    print(\"Candidadte Pairs = {},{}\".format(t1, t2))\n",
        "    break\n",
        "     \n",
        "\n",
        "for t2, t3 in zip(band_text2, band_text3):\n",
        "  if t2 == t3:\n",
        "    print(\"Candidadte Pairs = {},{}\".format(t2, t3))\n",
        "    break\n",
        "     \n",
        "\n",
        "for t3, t1 in zip(band_text3, band_text1):\n",
        "  if t3 == t1:\n",
        "    print(\"Candidate Pairs = {},{}\".format(t3, t1))\n",
        "    break"
      ],
      "metadata": {
        "id": "SjxAjnkjamaH"
      },
      "execution_count": 20,
      "outputs": []
    },
    {
      "cell_type": "markdown",
      "source": [
        "# **Random projections**"
      ],
      "metadata": {
        "id": "xAD8-gFklFgd"
      }
    },
    {
      "cell_type": "markdown",
      "source": [
        "creating 3 hyperplanes with 2 dimensions"
      ],
      "metadata": {
        "id": "3LzhPaw3l12F"
      }
    },
    {
      "cell_type": "code",
      "source": [
        "nbits = 3\n",
        "d = 2\n",
        "     \n",
        "plane_norms = np.random.rand(nbits, d) - .3\n",
        "plane_norms\n"
      ],
      "metadata": {
        "colab": {
          "base_uri": "https://localhost:8080/"
        },
        "id": "YcY33cvElMFr",
        "outputId": "8ba79fe0-236f-428b-a032-c73ef33d2d93"
      },
      "execution_count": 21,
      "outputs": [
        {
          "output_type": "execute_result",
          "data": {
            "text/plain": [
              "array([[ 0.19167126,  0.27164391],\n",
              "       [ 0.31685739, -0.22675657],\n",
              "       [ 0.40455319,  0.10853704]])"
            ]
          },
          "metadata": {},
          "execution_count": 21
        }
      ]
    },
    {
      "cell_type": "markdown",
      "source": [
        "input"
      ],
      "metadata": {
        "id": "J0wI6sbcl9j8"
      }
    },
    {
      "cell_type": "code",
      "source": [
        "a = np.asarray([3, 1])\n",
        "b = np.asarray([2, 1])\n",
        "c = np.asarray([3, 4])\n",
        "     "
      ],
      "metadata": {
        "id": "COu_f62glcRl"
      },
      "execution_count": 22,
      "outputs": []
    },
    {
      "cell_type": "markdown",
      "source": [
        "finding dot product"
      ],
      "metadata": {
        "id": "0zMdF2wDl_C9"
      }
    },
    {
      "cell_type": "code",
      "source": [
        "a_dot = np.dot(a, plane_norms.T)\n",
        "b_dot = np.dot(b, plane_norms.T)\n",
        "c_dot = np.dot(c, plane_norms.T)\n",
        "a_dot"
      ],
      "metadata": {
        "colab": {
          "base_uri": "https://localhost:8080/"
        },
        "id": "3y49nE-qlfXS",
        "outputId": "1efb2aac-41d9-4319-c21c-2d2b1580a945"
      },
      "execution_count": 23,
      "outputs": [
        {
          "output_type": "execute_result",
          "data": {
            "text/plain": [
              "array([0.84665768, 0.72381558, 1.32219662])"
            ]
          },
          "metadata": {},
          "execution_count": 23
        }
      ]
    },
    {
      "cell_type": "markdown",
      "source": [
        "seperating values"
      ],
      "metadata": {
        "id": "_XrrKwHomEVE"
      }
    },
    {
      "cell_type": "code",
      "source": [
        "a_dot = a_dot > 0\n",
        "b_dot = b_dot > 0\n",
        "c_dot = c_dot > 0\n",
        "a_dot"
      ],
      "metadata": {
        "colab": {
          "base_uri": "https://localhost:8080/"
        },
        "id": "S8VsLaNwmBW8",
        "outputId": "dbee0e50-3d08-41d2-d191-6f8c5a8faf64"
      },
      "execution_count": 24,
      "outputs": [
        {
          "output_type": "execute_result",
          "data": {
            "text/plain": [
              "array([ True,  True,  True])"
            ]
          },
          "metadata": {},
          "execution_count": 24
        }
      ]
    },
    {
      "cell_type": "markdown",
      "source": [
        "data type conversion"
      ],
      "metadata": {
        "id": "HbYnjOkEmJA7"
      }
    },
    {
      "cell_type": "code",
      "source": [
        "a_dot = a_dot.astype(int)\n",
        "b_dot = b_dot.astype(int)\n",
        "c_dot = c_dot.astype(int)\n",
        "     \n",
        "a_dot   "
      ],
      "metadata": {
        "colab": {
          "base_uri": "https://localhost:8080/"
        },
        "id": "EaO77oKHmJOi",
        "outputId": "85fe459b-6e6c-4495-fd37-62d82df9b856"
      },
      "execution_count": 25,
      "outputs": [
        {
          "output_type": "execute_result",
          "data": {
            "text/plain": [
              "array([1, 1, 1])"
            ]
          },
          "metadata": {},
          "execution_count": 25
        }
      ]
    },
    {
      "cell_type": "code",
      "source": [
        "b_dot"
      ],
      "metadata": {
        "colab": {
          "base_uri": "https://localhost:8080/"
        },
        "id": "g-CvzyZHmPtP",
        "outputId": "887c08f5-ca88-4189-d655-736f453cdd8b"
      },
      "execution_count": 26,
      "outputs": [
        {
          "output_type": "execute_result",
          "data": {
            "text/plain": [
              "array([1, 1, 1])"
            ]
          },
          "metadata": {},
          "execution_count": 26
        }
      ]
    },
    {
      "cell_type": "code",
      "source": [
        "c_dot"
      ],
      "metadata": {
        "colab": {
          "base_uri": "https://localhost:8080/"
        },
        "id": "b4kOJV9VmP4E",
        "outputId": "7c1a72cd-6074-460c-8f17-a5f9c4e3911b"
      },
      "execution_count": 27,
      "outputs": [
        {
          "output_type": "execute_result",
          "data": {
            "text/plain": [
              "array([1, 1, 1])"
            ]
          },
          "metadata": {},
          "execution_count": 27
        }
      ]
    },
    {
      "cell_type": "markdown",
      "source": [
        "convertsion and bucket creation"
      ],
      "metadata": {
        "id": "npKOdp25mXbm"
      }
    },
    {
      "cell_type": "code",
      "source": [
        "vectors = [a_dot, b_dot, c_dot]\n",
        "buckets = {}\n",
        "i = 0\n",
        "\n",
        "for i in range(len(vectors)):\n",
        "    hash_str = ''.join(vectors[i].astype(str))\n",
        "    if hash_str not in buckets.keys():\n",
        "        buckets[hash_str] = []\n",
        "    buckets[hash_str].append(i)\n",
        "     \n",
        "print(buckets)"
      ],
      "metadata": {
        "colab": {
          "base_uri": "https://localhost:8080/"
        },
        "id": "8PqCqZBqmamJ",
        "outputId": "68075f91-b176-4a03-fe2f-89188f670276"
      },
      "execution_count": 28,
      "outputs": [
        {
          "output_type": "stream",
          "name": "stdout",
          "text": [
            "{'111': [0, 1, 2]}\n"
          ]
        }
      ]
    }
  ]
}