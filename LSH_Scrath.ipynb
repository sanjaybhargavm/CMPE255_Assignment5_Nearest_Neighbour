{
  "nbformat": 4,
  "nbformat_minor": 0,
  "metadata": {
    "colab": {
      "provenance": []
    },
    "kernelspec": {
      "name": "python3",
      "display_name": "Python 3"
    },
    "language_info": {
      "name": "python"
    }
  },
  "cells": [
    {
      "cell_type": "code",
      "execution_count": 1,
      "metadata": {
        "id": "203lNehuxXpA",
        "colab": {
          "base_uri": "https://localhost:8080/"
        },
        "outputId": "e7e85a5a-0104-48d9-864a-2e4a7ba613bf"
      },
      "outputs": [
        {
          "output_type": "stream",
          "name": "stdout",
          "text": [
            "Looking in indexes: https://pypi.org/simple, https://us-python.pkg.dev/colab-wheels/public/simple/\n",
            "Collecting datasketch\n",
            "  Downloading datasketch-1.5.8-py2.py3-none-any.whl (76 kB)\n",
            "\u001b[K     |████████████████████████████████| 76 kB 793 kB/s \n",
            "\u001b[?25hRequirement already satisfied: scipy>=1.0.0 in /usr/local/lib/python3.8/dist-packages (from datasketch) (1.7.3)\n",
            "Requirement already satisfied: numpy>=1.11 in /usr/local/lib/python3.8/dist-packages (from datasketch) (1.21.6)\n",
            "Installing collected packages: datasketch\n",
            "Successfully installed datasketch-1.5.8\n"
          ]
        }
      ],
      "source": [
        "!pip install datasketch"
      ]
    },
    {
      "cell_type": "code",
      "source": [
        "\n",
        "import pandas as pd\n",
        "import numpy as np\n",
        "import random\n",
        "from random import shuffle\n",
        "import re\n",
        "from datasketch import MinHash, MinHashLSHForest\n",
        "from sklearn.metrics.pairwise import cosine_similarity\n",
        "\n",
        "from google.colab import drive"
      ],
      "metadata": {
        "id": "pkvbjQjOZFTm"
      },
      "execution_count": 11,
      "outputs": []
    },
    {
      "cell_type": "code",
      "source": [
        "def gen_shingles(text: str, k: int):\n",
        "  shingles = []\n",
        "\n",
        "  for i in range(len(text) - k + 1):\n",
        "    shingle = text[i:i + k]\n",
        "    shingles.append(shingle)\n",
        "\n",
        "  return set(shingles)"
      ],
      "metadata": {
        "id": "z0HV70SKZFfU"
      },
      "execution_count": 3,
      "outputs": []
    },
    {
      "cell_type": "code",
      "source": [
        "df1 = 'sanjay'\n",
        "df2 = 'data mining'\n",
        "df3 = 'cmoe255 data mining assignmnet'\n",
        "k = 3\n",
        "\n",
        "t1 = gen_shingles(df1, k)\n",
        "t2 = gen_shingles(df2, k)\n",
        "t3 = gen_shingles(df3, k)\n",
        "\n",
        "t1, t2, t3"
      ],
      "metadata": {
        "colab": {
          "base_uri": "https://localhost:8080/"
        },
        "id": "kMHStw73ZFmo",
        "outputId": "6c81c70b-7b66-4e65-afb0-27c5bbc066b2"
      },
      "execution_count": 6,
      "outputs": [
        {
          "output_type": "execute_result",
          "data": {
            "text/plain": [
              "({'anj', 'jay', 'nja', 'san'},\n",
              " {' mi', 'a m', 'ata', 'dat', 'ing', 'ini', 'min', 'nin', 'ta '},\n",
              " {' as',\n",
              "  ' da',\n",
              "  ' mi',\n",
              "  '255',\n",
              "  '5 d',\n",
              "  '55 ',\n",
              "  'a m',\n",
              "  'ass',\n",
              "  'ata',\n",
              "  'cmo',\n",
              "  'dat',\n",
              "  'e25',\n",
              "  'g a',\n",
              "  'gnm',\n",
              "  'ign',\n",
              "  'ing',\n",
              "  'ini',\n",
              "  'min',\n",
              "  'mne',\n",
              "  'moe',\n",
              "  'net',\n",
              "  'ng ',\n",
              "  'nin',\n",
              "  'nmn',\n",
              "  'oe2',\n",
              "  'sig',\n",
              "  'ssi',\n",
              "  'ta '})"
            ]
          },
          "metadata": {},
          "execution_count": 6
        }
      ]
    },
    {
      "cell_type": "code",
      "source": [
        "vocab = t1.union(t2).union(t3)\n",
        "vocab"
      ],
      "metadata": {
        "colab": {
          "base_uri": "https://localhost:8080/"
        },
        "id": "tOgF15PjZFoC",
        "outputId": "4c0cfc2d-b86b-469c-a247-ffd6bc0854c1"
      },
      "execution_count": 7,
      "outputs": [
        {
          "output_type": "execute_result",
          "data": {
            "text/plain": [
              "{' as',\n",
              " ' da',\n",
              " ' mi',\n",
              " '255',\n",
              " '5 d',\n",
              " '55 ',\n",
              " 'a m',\n",
              " 'anj',\n",
              " 'ass',\n",
              " 'ata',\n",
              " 'cmo',\n",
              " 'dat',\n",
              " 'e25',\n",
              " 'g a',\n",
              " 'gnm',\n",
              " 'ign',\n",
              " 'ing',\n",
              " 'ini',\n",
              " 'jay',\n",
              " 'min',\n",
              " 'mne',\n",
              " 'moe',\n",
              " 'net',\n",
              " 'ng ',\n",
              " 'nin',\n",
              " 'nja',\n",
              " 'nmn',\n",
              " 'oe2',\n",
              " 'san',\n",
              " 'sig',\n",
              " 'ssi',\n",
              " 'ta '}"
            ]
          },
          "metadata": {},
          "execution_count": 7
        }
      ]
    },
    {
      "cell_type": "code",
      "source": [
        "t1_enc = [1 if s in t1 else 0 for s in vocab]\n",
        "t2_enc = [1 if s in t2 else 0 for s in vocab]\n",
        "t3_enc = [1 if s in t3 else 0 for s in vocab]\n",
        "\n",
        "t1_enc"
      ],
      "metadata": {
        "colab": {
          "base_uri": "https://localhost:8080/"
        },
        "id": "2lb6U_pfZ995",
        "outputId": "c84405b9-eac0-4920-af0d-4ab6d4cdccd4"
      },
      "execution_count": 8,
      "outputs": [
        {
          "output_type": "execute_result",
          "data": {
            "text/plain": [
              "[0,\n",
              " 0,\n",
              " 0,\n",
              " 1,\n",
              " 0,\n",
              " 0,\n",
              " 0,\n",
              " 0,\n",
              " 0,\n",
              " 0,\n",
              " 0,\n",
              " 0,\n",
              " 0,\n",
              " 0,\n",
              " 0,\n",
              " 0,\n",
              " 0,\n",
              " 0,\n",
              " 1,\n",
              " 0,\n",
              " 0,\n",
              " 0,\n",
              " 0,\n",
              " 0,\n",
              " 0,\n",
              " 1,\n",
              " 0,\n",
              " 0,\n",
              " 0,\n",
              " 0,\n",
              " 1,\n",
              " 0]"
            ]
          },
          "metadata": {},
          "execution_count": 8
        }
      ]
    },
    {
      "cell_type": "code",
      "source": [
        "nums = list(range(1, len(t1_enc) + 1))\n",
        "print(nums)"
      ],
      "metadata": {
        "colab": {
          "base_uri": "https://localhost:8080/"
        },
        "id": "OQO3Dy57ZxIt",
        "outputId": "c5226836-91e3-4005-dbf1-a788ee60c176"
      },
      "execution_count": 9,
      "outputs": [
        {
          "output_type": "stream",
          "name": "stdout",
          "text": [
            "[1, 2, 3, 4, 5, 6, 7, 8, 9, 10, 11, 12, 13, 14, 15, 16, 17, 18, 19, 20, 21, 22, 23, 24, 25, 26, 27, 28, 29, 30, 31, 32]\n"
          ]
        }
      ]
    },
    {
      "cell_type": "code",
      "source": [
        "shuffle(nums)\n",
        "random_nums = nums\n",
        "random_nums"
      ],
      "metadata": {
        "colab": {
          "base_uri": "https://localhost:8080/"
        },
        "id": "XR8mRtJlZxL9",
        "outputId": "06bb3ff1-e952-411a-e226-a40091fdd35c"
      },
      "execution_count": 12,
      "outputs": [
        {
          "output_type": "execute_result",
          "data": {
            "text/plain": [
              "[7,\n",
              " 10,\n",
              " 15,\n",
              " 18,\n",
              " 24,\n",
              " 11,\n",
              " 27,\n",
              " 5,\n",
              " 31,\n",
              " 29,\n",
              " 6,\n",
              " 32,\n",
              " 19,\n",
              " 4,\n",
              " 22,\n",
              " 17,\n",
              " 14,\n",
              " 30,\n",
              " 8,\n",
              " 2,\n",
              " 23,\n",
              " 1,\n",
              " 3,\n",
              " 26,\n",
              " 16,\n",
              " 13,\n",
              " 9,\n",
              " 12,\n",
              " 25,\n",
              " 28,\n",
              " 20,\n",
              " 21]"
            ]
          },
          "metadata": {},
          "execution_count": 12
        }
      ]
    },
    {
      "cell_type": "code",
      "source": [
        "def create_hash(size):\n",
        "  hash = list(range(1, len(vocab) + 1))\n",
        "  shuffle(hash)\n",
        "  return hash\n",
        "     "
      ],
      "metadata": {
        "id": "vjc3cwyHZxOO"
      },
      "execution_count": 13,
      "outputs": []
    },
    {
      "cell_type": "code",
      "source": [
        "def build_minhash_func(vocab_size: int, nbits: int):\n",
        "    hashes = []\n",
        "    for i in range(nbits):\n",
        "        hashes.append(create_hash(vocab_size))\n",
        "    return hashes\n",
        "\n",
        "# creating 20 minhash vectors\n",
        "minhash = build_minhash_func(len(vocab), 20)\n"
      ],
      "metadata": {
        "id": "NE4nXuY_ZxQY"
      },
      "execution_count": 14,
      "outputs": []
    },
    {
      "cell_type": "code",
      "source": [
        "def create_sig(onehot_enc: list):\n",
        "    # To create signatures\n",
        "    signature = []\n",
        "    for func in minhash:\n",
        "        for i in range(1, len(vocab)+1):\n",
        "            idx = func.index(i)\n",
        "            if onehot_enc[idx] == 1:\n",
        "                signature.append(idx)\n",
        "                break\n",
        "    return signature\n"
      ],
      "metadata": {
        "id": "kkOYtPyaZxSm"
      },
      "execution_count": 15,
      "outputs": []
    },
    {
      "cell_type": "code",
      "source": [
        "t1_sig = create_sig(t1_enc)\n",
        "t2_sig = create_sig(t2_enc)\n",
        "t3_sig = create_sig(t3_enc)\n",
        "\n",
        "print(t1_sig)\n",
        "print(t2_sig)\n",
        "     "
      ],
      "metadata": {
        "colab": {
          "base_uri": "https://localhost:8080/"
        },
        "id": "pnm3sxwZaXkQ",
        "outputId": "a12939c0-b59c-4ea5-844a-1ac8a149cd6a"
      },
      "execution_count": 16,
      "outputs": [
        {
          "output_type": "stream",
          "name": "stdout",
          "text": [
            "[18, 18, 18, 25, 3, 18, 3, 18, 30, 30, 3, 30, 18, 3, 30, 30, 25, 3, 3, 18]\n",
            "[11, 27, 4, 21, 5, 5, 4, 10, 5, 21, 21, 4, 24, 23, 4, 4, 10, 5, 0, 4]\n"
          ]
        }
      ]
    },
    {
      "cell_type": "code",
      "source": [
        "def jaccard(a, b):\n",
        "  return len(a.intersection(b)) / len(a.union(b))"
      ],
      "metadata": {
        "id": "OWiV0oJyaXmq"
      },
      "execution_count": 17,
      "outputs": []
    },
    {
      "cell_type": "code",
      "source": [
        "jaccard(t1, t2), jaccard(set(t1_sig), set(t2_sig))"
      ],
      "metadata": {
        "colab": {
          "base_uri": "https://localhost:8080/"
        },
        "id": "QWoI-tZbaXoq",
        "outputId": "c39f325b-0c4e-44f8-fdd7-1362f17ef188"
      },
      "execution_count": 19,
      "outputs": [
        {
          "output_type": "execute_result",
          "data": {
            "text/plain": [
              "(0.0, 0.0)"
            ]
          },
          "metadata": {},
          "execution_count": 19
        }
      ]
    },
    {
      "cell_type": "code",
      "source": [
        "jaccard(t1, t3), jaccard(set(t1_sig), set(t3_sig))"
      ],
      "metadata": {
        "colab": {
          "base_uri": "https://localhost:8080/"
        },
        "id": "9aT7R1KXamNF",
        "outputId": "cd30bfbb-392f-423f-c796-f605cc4c4239"
      },
      "execution_count": 20,
      "outputs": [
        {
          "output_type": "execute_result",
          "data": {
            "text/plain": [
              "(0.0, 0.0)"
            ]
          },
          "metadata": {},
          "execution_count": 20
        }
      ]
    },
    {
      "cell_type": "code",
      "source": [
        "jaccard(t2, t3), jaccard(set(t2_sig), set(t3_sig))"
      ],
      "metadata": {
        "colab": {
          "base_uri": "https://localhost:8080/"
        },
        "id": "uPMUkBTBamTa",
        "outputId": "3adb9810-002d-406e-b2a8-37b86732b0a5"
      },
      "execution_count": 21,
      "outputs": [
        {
          "output_type": "execute_result",
          "data": {
            "text/plain": [
              "(0.32142857142857145, 0.3333333333333333)"
            ]
          },
          "metadata": {},
          "execution_count": 21
        }
      ]
    },
    {
      "cell_type": "code",
      "source": [
        "\n",
        "def fill_buckets(signatures, bands):\n",
        "  n = len(signatures) // bands   \n",
        "  bucket = [] \n",
        "  i = 0\n",
        "  while i < len(signatures):\n",
        "    bucket.append(signatures[i: i + n]) \n",
        "    i += n\n",
        "  return bucket"
      ],
      "metadata": {
        "id": "8NM_GBefamV9"
      },
      "execution_count": 22,
      "outputs": []
    },
    {
      "cell_type": "code",
      "source": [
        "band_text1 = fill_buckets(t1_sig, 10)\n",
        "band_text2 = fill_buckets(t2_sig, 10)\n",
        "band_text3 = fill_buckets(t3_sig, 10)\n",
        "\n",
        "band_text1, band_text2, band_text3"
      ],
      "metadata": {
        "colab": {
          "base_uri": "https://localhost:8080/"
        },
        "id": "Vl8Cue97amYj",
        "outputId": "d806a0b3-a4a1-4e33-a494-879f9053b639"
      },
      "execution_count": 23,
      "outputs": [
        {
          "output_type": "execute_result",
          "data": {
            "text/plain": [
              "([[18, 18],\n",
              "  [18, 25],\n",
              "  [3, 18],\n",
              "  [3, 18],\n",
              "  [30, 30],\n",
              "  [3, 30],\n",
              "  [18, 3],\n",
              "  [30, 30],\n",
              "  [25, 3],\n",
              "  [3, 18]],\n",
              " [[11, 27],\n",
              "  [4, 21],\n",
              "  [5, 5],\n",
              "  [4, 10],\n",
              "  [5, 21],\n",
              "  [21, 4],\n",
              "  [24, 23],\n",
              "  [4, 4],\n",
              "  [10, 5],\n",
              "  [0, 4]],\n",
              " [[14, 27],\n",
              "  [4, 2],\n",
              "  [29, 2],\n",
              "  [26, 10],\n",
              "  [5, 2],\n",
              "  [7, 6],\n",
              "  [8, 23],\n",
              "  [8, 9],\n",
              "  [10, 5],\n",
              "  [0, 15]])"
            ]
          },
          "metadata": {},
          "execution_count": 23
        }
      ]
    },
    {
      "cell_type": "code",
      "source": [
        "for t1, t2 in zip(band_text1, band_text2):\n",
        "  if t1 == t2:\n",
        "    print(\"Candidadte Pairs = {},{}\".format(t1, t2))\n",
        "    break\n",
        "     \n",
        "\n",
        "for t2, t3 in zip(band_text2, band_text3):\n",
        "  if t2 == t3:\n",
        "    print(\"Candidadte Pairs = {},{}\".format(t2, t3))\n",
        "    break\n",
        "     \n",
        "\n",
        "for t3, t1 in zip(band_text3, band_text1):\n",
        "  if t3 == t1:\n",
        "    print(\"Candidate Pairs = {},{}\".format(t3, t1))\n",
        "    break"
      ],
      "metadata": {
        "colab": {
          "base_uri": "https://localhost:8080/"
        },
        "id": "SjxAjnkjamaH",
        "outputId": "5204a317-447c-442b-fb3d-e9eda657d682"
      },
      "execution_count": 24,
      "outputs": [
        {
          "output_type": "stream",
          "name": "stdout",
          "text": [
            "Candidadte Pairs = [10, 5],[10, 5]\n"
          ]
        }
      ]
    }
  ]
}